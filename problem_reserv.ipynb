{
 "cells": [
  {
   "cell_type": "markdown",
   "metadata": {},
   "source": [
    "## Задача 2 ( то, о чём грезит каждый семикласник)\n",
    "\n",
    "Напишите программу, которая будет решать квадратные уравнения вида $ax^2 + bx +c =0$.  На вход в программу поступают три числа - $a$, $b$ и $c$. На выход должны выдаваться корни квадратного уравнения $x_1$ и $x_2$. \n",
    "\n",
    "Ясное дело, что задачку придётся решать через написание большого условия. Не поленитесь и распишите все случаи.\n",
    "\n",
    " * У уравнения может быть один корень, если $a=0$ (оно линейное)\n",
    " * У уравнения могут быть два одинаковых корня\n",
    " * У уравнения могут быть два различных корня\n",
    " * У уравнения может вообще не быть корней\n",
    " * Абсолютно любое число может быть корнем уравнения. Это довольно странная ситуация, но такое возможно. Поймите когда это так.\n"
   ]
  },
  {
   "cell_type": "markdown",
   "metadata": {},
   "source": [
    "## Задача 9\n",
    "\n",
    "Идёт $k$-я секунда суток. Определите, сколько целых часов $h$ и целых минут $m$ прошло с начала суток. Например, если\n",
    "\n",
    "$k=13257=33600+4060+57$,\n",
    "\n",
    "то $h=3$ и $m=40$."
   ]
  },
  {
   "cell_type": "markdown",
   "metadata": {},
   "source": [
    "## 2. Счастливые билетики.\n",
    "\n",
    "Это счастливые билетики. В них сумма первых трёх чисел равна сумме вторых трёх. В СССР существовало поверие, что если такой билетик скушать, то все твои мечты исполнятся. \n",
    "\n",
    "<img align=\"center\" src=\"http://apikabu.ru/img_n/2012-10_4/u9z.jpg\" height=\"600\" width=\"600\"> \n",
    "\n",
    "\n",
    "1. Сколько всего существует билетов с различными номерами? \n",
    "2. Сколько всего существует счастливых билетиков?\n",
    "3. Какова вероятность того, что вам попадётся счастливый билетик и вы получите шанс стать счастливым?"
   ]
  },
  {
   "cell_type": "code",
   "execution_count": null,
   "metadata": {
    "collapsed": true
   },
   "outputs": [],
   "source": []
  },
  {
   "cell_type": "markdown",
   "metadata": {},
   "source": [
    "## 5. Решение повседневных задач\n",
    "\n",
    "Помните на вводной лекции я сказал, что в Python можно решать квадратные уравнения и всякие разные неравенства? Давайте научимся это делать. "
   ]
  },
  {
   "cell_type": "code",
   "execution_count": null,
   "metadata": {
    "collapsed": true
   },
   "outputs": [],
   "source": [
    "from sympy import Symbol, solve\n",
    "x = Symbol(\"x\")\n",
    "solve(x**2 - 1)"
   ]
  },
  {
   "cell_type": "code",
   "execution_count": null,
   "metadata": {
    "collapsed": true
   },
   "outputs": [],
   "source": [
    "solve(x**2 > 4)"
   ]
  },
  {
   "cell_type": "markdown",
   "metadata": {},
   "source": [
    "Как мы уже выяснили до этого, Python - численный язык программирования. Однако можно его немножечко прокачать с помощью модуля `sympy`, который позволяет делать символьные вычисления. \n",
    "\n",
    "Функция `Symbol` сообщает Python о том какой именно значёк нужно рассматривать как символ. Функция `solve` решает уравнение относительно этого символа.\n",
    "\n",
    "Можно ввести несколько символов и рассматривать какой-нибудь из них как параметр."
   ]
  },
  {
   "cell_type": "code",
   "execution_count": null,
   "metadata": {
    "collapsed": true
   },
   "outputs": [],
   "source": [
    "y = Symbol(\"y\")\n",
    "solve(x**2 - y/2 + 5, x)"
   ]
  },
  {
   "cell_type": "code",
   "execution_count": null,
   "metadata": {
    "collapsed": true
   },
   "outputs": [],
   "source": [
    "solve(x**2 - y/2 + 5, y)"
   ]
  },
  {
   "cell_type": "code",
   "execution_count": null,
   "metadata": {
    "collapsed": true
   },
   "outputs": [],
   "source": [
    "# Надоело подгружать команды по одной. \n",
    "from sympy import *"
   ]
  },
  {
   "cell_type": "markdown",
   "metadata": {},
   "source": [
    "Можно решать системы!"
   ]
  },
  {
   "cell_type": "code",
   "execution_count": null,
   "metadata": {
    "collapsed": true
   },
   "outputs": [],
   "source": [
    "solve([Eq(x + 5*y, 2), Eq(-3*x + 6*y, 15)], [x, y])"
   ]
  },
  {
   "cell_type": "markdown",
   "metadata": {},
   "source": [
    "Можно раскрывать скобки!"
   ]
  },
  {
   "cell_type": "code",
   "execution_count": null,
   "metadata": {
    "collapsed": true
   },
   "outputs": [],
   "source": [
    "((x+y)**2 * (x+1)).expand()"
   ]
  },
  {
   "cell_type": "markdown",
   "metadata": {},
   "source": [
    "Можно упрощат выражения"
   ]
  },
  {
   "cell_type": "code",
   "execution_count": null,
   "metadata": {
    "collapsed": true
   },
   "outputs": [],
   "source": [
    "a = 1/x + (x*sin(x) - 1)/x\n",
    "simplify(a)"
   ]
  },
  {
   "cell_type": "markdown",
   "metadata": {},
   "source": [
    "Можно искать производные"
   ]
  },
  {
   "cell_type": "code",
   "execution_count": null,
   "metadata": {
    "collapsed": true
   },
   "outputs": [],
   "source": [
    "diff(x**2, x)"
   ]
  },
  {
   "cell_type": "code",
   "execution_count": null,
   "metadata": {
    "collapsed": true
   },
   "outputs": [],
   "source": [
    "diff(cos(x**2)**2 / (1+x), x)"
   ]
  },
  {
   "cell_type": "code",
   "execution_count": null,
   "metadata": {
    "collapsed": true
   },
   "outputs": [],
   "source": []
  },
  {
   "cell_type": "code",
   "execution_count": null,
   "metadata": {
    "collapsed": true
   },
   "outputs": [],
   "source": []
  }
 ],
 "metadata": {
  "kernelspec": {
   "display_name": "Python 3",
   "language": "python",
   "name": "python3"
  },
  "language_info": {
   "codemirror_mode": {
    "name": "ipython",
    "version": 3
   },
   "file_extension": ".py",
   "mimetype": "text/x-python",
   "name": "python",
   "nbconvert_exporter": "python",
   "pygments_lexer": "ipython3",
   "version": "3.6.3"
  }
 },
 "nbformat": 4,
 "nbformat_minor": 1
}
