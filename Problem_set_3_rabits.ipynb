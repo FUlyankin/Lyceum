{
 "cells": [
  {
   "cell_type": "markdown",
   "metadata": {},
   "source": [
    "<img src=\"https://www.python.org/static/community_logos/python-logo-generic.svg\" height=\"500\" width=\"500\"> \n",
    "\n",
    "# <center> Python для продвинутых лицеистов и лицеисток. <br>  <br>  Problem set 3 </center>\n",
    "\n",
    "---------\n",
    "\n",
    "\n",
    "# Кролики и Австралия\n",
    "\n",
    "Бравый пират Джэк был пойман во время разбоя английскими войсками. Во имя Её Величества Королевы, капитана Джэка отправили в тюрьму, в Австралию. Чтобы Джэку не было скучно, он захватил с собой своих любимых кроликов: Пушистика и Лакомку. Когда корабль пришвартовался к гавани славного города Сиднея, кролики убежали. Спустя месяц они повзрослели и начали размножаться. \n",
    "\n",
    "Пусть беременность у Крольчихи длится один месяц. Каждый месяц крольчиха рождает пару крольчат: мальчика и девочку, которые, повзрослев, тоже начинают спариваться. Сколько кроликов будет в австралии через 42 месяца? Получите этот результат, используя python! \n",
    "\n",
    "**Подсказка:**\n",
    "\n",
    "![](http://2.bp.blogspot.com/-I7_HnXRSzaI/TmpE8PCD1GI/AAAAAAAAIrk/nLscbcupF70/s1600/fibrab.gif)\n",
    "\n",
    "Обратите внимание на кроличью схемку. На ней происходит размножение кроликов. Оно происходит в виде *последовательности Фибоначчи*. \n",
    "\n",
    "*Числа Фибоначчи* или *последовательность Фибоначчи* — последовательность чисел, начинающаяся с двух единиц, и такая, что очередное число в этой последовательности равно сумме двух предыдущих. Формально можно определить её следующим образом:\n",
    "\n",
    "$$a_1=1;$$\n",
    "\n",
    "$$a_2=1;$$\n",
    "\n",
    "$$a_{n+1}=a_n+a_{n-1}, \\text{ для всех } n>2.$$\n",
    "\n",
    "Например, $a_3=1+1=2$, $a_4=2+1=3$.\n",
    "\n",
    "Иными словами, наша **задача** состоит в поиске 42-го числа Фибоначчи."
   ]
  },
  {
   "cell_type": "code",
   "execution_count": null,
   "metadata": {
    "collapsed": true
   },
   "outputs": [],
   "source": [
    "# Попробуйте написать здесь свой код ;) "
   ]
  },
  {
   "cell_type": "code",
   "execution_count": null,
   "metadata": {
    "collapsed": true
   },
   "outputs": [],
   "source": []
  },
  {
   "cell_type": "markdown",
   "metadata": {},
   "source": [
    "Ситуация изменилась. Пара кроликов может прожить только один год (12 месяцев). Спустя это время она отправляется в кроличий ад. Сколько кроликов на 42 месяц окажется в Австралии? "
   ]
  },
  {
   "cell_type": "code",
   "execution_count": null,
   "metadata": {
    "collapsed": true
   },
   "outputs": [],
   "source": [
    "# Попробуйте написать здесь свой код ;) "
   ]
  },
  {
   "cell_type": "code",
   "execution_count": null,
   "metadata": {
    "collapsed": true
   },
   "outputs": [],
   "source": []
  },
  {
   "cell_type": "markdown",
   "metadata": {},
   "source": [
    "Австралийцы в шоке! Кролики повсюду! Правительство Австралии решает срочно начать борьбу с кроликами и ввозит на материк пару лисиц. Лисицы размножаются по той же самой схеме, что и кролики. Пусть лисицы бессмертны. В течение месяца каждая лисица гарантированно съедает 5 кроликов. Правительство купило одну лису. Через сколько все кролики будут съедены?  "
   ]
  },
  {
   "cell_type": "code",
   "execution_count": null,
   "metadata": {
    "collapsed": true
   },
   "outputs": [],
   "source": [
    "# Попробуйте написать здесь свой код ;) "
   ]
  },
  {
   "cell_type": "code",
   "execution_count": null,
   "metadata": {
    "collapsed": true
   },
   "outputs": [],
   "source": []
  },
  {
   "cell_type": "markdown",
   "metadata": {},
   "source": [
    "Сколько пар лисиц необходимо закупить правительству на 42 месяц, чтобы в течение года избавиться от всех кроликов?  "
   ]
  },
  {
   "cell_type": "code",
   "execution_count": null,
   "metadata": {
    "collapsed": true
   },
   "outputs": [],
   "source": [
    "# Попробуйте написать здесь свой код ;) "
   ]
  },
  {
   "cell_type": "code",
   "execution_count": null,
   "metadata": {
    "collapsed": true
   },
   "outputs": [],
   "source": []
  },
  {
   "cell_type": "markdown",
   "metadata": {},
   "source": [
    "Хорошо! Пусть теперь лисицы живут 24 месяца. В течение каждого месяца одна лисица гарантированно съедает 5 кроликов. Правительство на 42 месяц закупает одну лисицу. Через сколько все кролики будут уничтожены? "
   ]
  },
  {
   "cell_type": "code",
   "execution_count": null,
   "metadata": {
    "collapsed": true
   },
   "outputs": [],
   "source": [
    "# Попробуйте написать здесь свой код ;) "
   ]
  },
  {
   "cell_type": "code",
   "execution_count": null,
   "metadata": {
    "collapsed": true
   },
   "outputs": [],
   "source": []
  },
  {
   "cell_type": "markdown",
   "metadata": {},
   "source": [
    "Ну и последнее: \n",
    "\n",
    "* Кролики живут 12 месяцев.\n",
    "* Лисы живут 24 месяца и съедают каждый месяц по 5 кроликов. Пусть лисы вводятся в игру на 42 месяц. \n",
    "* Если лисе не хватает 5 кроликов, то она умирает. \n",
    "\n",
    "Как в данном случае будут изменяться популяции лисиц и кроликов. Вымрут ли когда-нибудь полностью лисицы или кролики? "
   ]
  },
  {
   "cell_type": "code",
   "execution_count": null,
   "metadata": {
    "collapsed": true
   },
   "outputs": [],
   "source": [
    "# Попробуйте написать здесь свой код ;) "
   ]
  },
  {
   "cell_type": "code",
   "execution_count": null,
   "metadata": {
    "collapsed": true
   },
   "outputs": [],
   "source": []
  },
  {
   "cell_type": "code",
   "execution_count": null,
   "metadata": {
    "collapsed": true
   },
   "outputs": [],
   "source": []
  },
  {
   "cell_type": "markdown",
   "metadata": {},
   "source": [
    "## Исследуем кроликов! \n",
    "\n",
    "Судя по всему у нас получилось с помощью нескольких простых уравнений смоделировать размножение кроликов и охуту на них. Интересно, а как дело обстоит на самом деле? А давайте скачаем данные и попробуем узнать!\n",
    "\n",
    "Данные взяты из исследования:  http://sev.lternet.edu/data/sev-113\n",
    "\n",
    "Продолжим изучать пакеты. `Python` обычно используется для анализа данных. Данные обычно представлены в виде табличек. С табличками помогает работать специальный пакет, который носит гордое имя `Pandas`. \n",
    "\n",
    "<img align=\"center\" src=\"https://raw.githubusercontent.com/FUlyankin/Parsers/master/images%20/pandas.jpg\" height=\"600\" width=\"600\"> \n",
    "\n",
    "Подгрузим этот бравый пакет. Также загрузим из пакета `math` число Пи. "
   ]
  },
  {
   "cell_type": "code",
   "execution_count": 1,
   "metadata": {
    "collapsed": true
   },
   "outputs": [],
   "source": [
    "import pandas as pd\n",
    "from math import pi"
   ]
  },
  {
   "cell_type": "markdown",
   "metadata": {},
   "source": [
    "Мы бы хотели загрузить в `Python` табличку, в который приведены реальные данные о популяциях кроликов и посмотреть что происходит с этими популяциями в реальности на графике. Графики в `Python` позволяет строить другой хороший пакет, `matplotlib`. Подгрузим его."
   ]
  },
  {
   "cell_type": "code",
   "execution_count": 2,
   "metadata": {
    "collapsed": true
   },
   "outputs": [],
   "source": [
    "import matplotlib.pyplot as plt\n",
    "# %matplotlib inline  # Эта опция нужна, чтобы картинки сразу же рисовались"
   ]
  },
  {
   "cell_type": "markdown",
   "metadata": {},
   "source": [
    "Подгрузим табличку с информацией о кролика и посмотрим на неё.  "
   ]
  },
  {
   "cell_type": "code",
   "execution_count": 3,
   "metadata": {
    "collapsed": false
   },
   "outputs": [
    {
     "data": {
      "text/html": [
       "<div>\n",
       "<table border=\"1\" class=\"dataframe\">\n",
       "  <thead>\n",
       "    <tr style=\"text-align: right;\">\n",
       "      <th></th>\n",
       "      <th>day</th>\n",
       "      <th>month</th>\n",
       "      <th>year</th>\n",
       "      <th>#legs</th>\n",
       "      <th>#observed</th>\n",
       "      <th>density_estimate</th>\n",
       "      <th>s.d.</th>\n",
       "      <th>estimator_used</th>\n",
       "    </tr>\n",
       "  </thead>\n",
       "  <tbody>\n",
       "    <tr>\n",
       "      <th>0</th>\n",
       "      <td>20</td>\n",
       "      <td>1</td>\n",
       "      <td>1992</td>\n",
       "      <td>ALL</td>\n",
       "      <td>11</td>\n",
       "      <td>0.0177</td>\n",
       "      <td>0.0053</td>\n",
       "      <td>UNIFORM/COSINE</td>\n",
       "    </tr>\n",
       "    <tr>\n",
       "      <th>1</th>\n",
       "      <td>20</td>\n",
       "      <td>4</td>\n",
       "      <td>1992</td>\n",
       "      <td>ALL</td>\n",
       "      <td>20</td>\n",
       "      <td>0.1512</td>\n",
       "      <td>0.0500</td>\n",
       "      <td>HALFNORM/COSINE</td>\n",
       "    </tr>\n",
       "    <tr>\n",
       "      <th>2</th>\n",
       "      <td>22</td>\n",
       "      <td>7</td>\n",
       "      <td>1992</td>\n",
       "      <td>ALL</td>\n",
       "      <td>12</td>\n",
       "      <td>0.0423</td>\n",
       "      <td>0.0143</td>\n",
       "      <td>UNIFORM/COSINE</td>\n",
       "    </tr>\n",
       "    <tr>\n",
       "      <th>3</th>\n",
       "      <td>26</td>\n",
       "      <td>10</td>\n",
       "      <td>1992</td>\n",
       "      <td>ALL</td>\n",
       "      <td>18</td>\n",
       "      <td>0.0321</td>\n",
       "      <td>0.0076</td>\n",
       "      <td>UNIFORM</td>\n",
       "    </tr>\n",
       "    <tr>\n",
       "      <th>4</th>\n",
       "      <td>12</td>\n",
       "      <td>1</td>\n",
       "      <td>1993</td>\n",
       "      <td>ALL</td>\n",
       "      <td>21</td>\n",
       "      <td>0.0341</td>\n",
       "      <td>0.0074</td>\n",
       "      <td>UNIFORM</td>\n",
       "    </tr>\n",
       "  </tbody>\n",
       "</table>\n",
       "</div>"
      ],
      "text/plain": [
       "   day  month  year #legs #observed  density_estimate    s.d.   estimator_used\n",
       "0   20      1  1992   ALL        11            0.0177  0.0053   UNIFORM/COSINE\n",
       "1   20      4  1992   ALL        20            0.1512  0.0500  HALFNORM/COSINE\n",
       "2   22      7  1992   ALL        12            0.0423  0.0143   UNIFORM/COSINE\n",
       "3   26     10  1992   ALL        18            0.0321  0.0076          UNIFORM\n",
       "4   12      1  1993   ALL        21            0.0341  0.0074          UNIFORM"
      ]
     },
     "execution_count": 3,
     "metadata": {},
     "output_type": "execute_result"
    }
   ],
   "source": [
    "data = pd.read_csv('rabbit_data.csv',sep=',')\n",
    "data.head( )"
   ]
  },
  {
   "cell_type": "markdown",
   "metadata": {},
   "source": [
    "Отлично! У нас в табличке есть куча разной информации о кроликах. Давайте построим график с динамикой кроликов."
   ]
  },
  {
   "cell_type": "code",
   "execution_count": 5,
   "metadata": {
    "collapsed": false
   },
   "outputs": [
    {
     "data": {
      "image/png": "[encoded data removed]",
      "text/plain": [
       "<matplotlib.figure.Figure at 0x7f3f33ee3c50>"
      ]
     },
     "metadata": {},
     "output_type": "display_data"
    }
   ],
   "source": [
    "data['density_estimate'].plot( )\n",
    "plt.show( )"
   ]
  },
  {
   "cell_type": "markdown",
   "metadata": {},
   "source": [
    "Да, у нас получилось, что численность кроликов, меняется циклически. Но циклы вышли совсем неровными. Попробуйте объяснить почему. \n",
    "\n",
    "Всё дело в том, что в реальном мире на все красивые взаимосвязи накладывается шум. "
   ]
  },
  {
   "cell_type": "code",
   "execution_count": null,
   "metadata": {
    "collapsed": true
   },
   "outputs": [],
   "source": []
  },
  {
   "cell_type": "markdown",
   "metadata": {},
   "source": [
    "Подгрузим специальный модуль, который позволяет генерировать случайности и сгенерируем парочку случайных величин. Генерировать их мы будем из нормального распределения с математическим ожиданием 10 и дисперсией 4. Что это такое и как работает я объясню на паре :) "
   ]
  },
  {
   "cell_type": "code",
   "execution_count": 12,
   "metadata": {
    "collapsed": false
   },
   "outputs": [
    {
     "data": {
      "text/plain": [
       "array([ 13.94315301,  -0.67787078])"
      ]
     },
     "execution_count": 12,
     "metadata": {},
     "output_type": "execute_result"
    }
   ],
   "source": [
    "import numpy as np\n",
    "np.random.normal(10,4,2)"
   ]
  },
  {
   "cell_type": "markdown",
   "metadata": {},
   "source": [
    "Попробуйте сгенерировать случайных чисел из такого распределения с нулевым математическим ожиданием и дисперсией единица и зашумить то, как размножаются кролики. Стала ли траектория больше похоже на реальную? "
   ]
  },
  {
   "cell_type": "code",
   "execution_count": null,
   "metadata": {
    "collapsed": true
   },
   "outputs": [],
   "source": [
    "# Ваш код здесь "
   ]
  },
  {
   "cell_type": "code",
   "execution_count": null,
   "metadata": {
    "collapsed": true
   },
   "outputs": [],
   "source": []
  },
  {
   "cell_type": "markdown",
   "metadata": {},
   "source": [
    "Давайте попробуем построить несколько разных картинок с разной дисперсией и посмотреть как будет вести себя популяция кроликов. "
   ]
  },
  {
   "cell_type": "code",
   "execution_count": null,
   "metadata": {
    "collapsed": true
   },
   "outputs": [],
   "source": [
    "# Ваш код здесь "
   ]
  },
  {
   "cell_type": "markdown",
   "metadata": {},
   "source": [
    "## О том как всё было на самом деле.\n",
    "\n",
    "Впервые европейцы появились на берешах Австралии в 1606 году. Голландцы под руководством Виллема Янсзона сошли на её прекрасные берега. В 1788 году к Австралии пришвартовались несколько Британских кораблей. Они основали в Австралии колонию для осуждённых, которая впоследствии превратилась в Сидней. С тех пор Австралия использовалась англичанами как тюрьма. \n",
    "\n",
    "Со временем на материке появились и другие, никак не связанные с преступниками колонии. В 1901 году Австралийские колонии создали свою собственную федерацию. На 2014 год население Австралии составляет 23 млн. человек (население Москвы - около 15 млн.). \n",
    "\n",
    "В 1858 году колонисты привезли в Австралию 24 кролика. Год спустя этих длинноухих зверьков  можно было увидеть за 100 километров от места высадки — и на север, и на запад. А через 3-4 года число кроликов  возросло до 750 миллионов. Это в десятки раз больше самого населения на континенте. Вот тогда-то и разразилось настоящее бедствие в Австралии и последствия оказались весьма плачевными.\n",
    "\n",
    "Кролики на пастбищах начали соперничать с овцами и коровами. Десять кроликов съедали столько травы, сколько съедала одна овца. Только вот от овцы можно получить мяса в три раза больше. Фермеры уже подсчитывали свои убытки и объявили кроликам настоящую войну. Более того, кролики начали вытеснять из привычных зон обитания местные уникальные виды. К борьбе с кроликами подключились и ученые.\n",
    "\n",
    "Сама борьба с кроликами принесла немало бед для Австралийской флоры и фауны. Первоначально решили завезти естественных врагов кроликов – лисиц, хорьков, кошек, горностаев, ласок. Но попытка не увенчалась успехом. Привезенные виды также стали активно размножаться. Вместо того, чтобы охотиться на быстрых кроликов, они стали поедать местных сумчатых животных и птиц, которые были не так быстры и не могли сопротивляться новым хищникам.\n",
    "\n",
    "Тогда обратились к традиционным методам – ядохимикаты, отстрел, взрывание нор. Это было не эффективно, учитывая огромную численность животных. В штате Западная Австралия в период с 1901 по 1907 гг. построили огромный проволочный забор. Он так и называется – «Забор от кроликов №1». Забор постоянно патрулируется на машинах, кроличьи подкопы засыпаются, кролики отстреливаются. \n",
    "\n",
    "Сначала забор патрулировали на верблюдах, привезённых из Африки. После появления автомашин, верблюдов за ненадобностью выпустили на волю, они расплодились, стали уничтожать пастбища, и в Австралии появилась новая проблема (в третий раз на одни и те же грабли).\n",
    "\n",
    "В середине 50-х гг. 20 века для борьбы с кроликами стали использовать достижения медицины. В Австралию привезли кроличьих блох и комаров, зараженных вирусом миксоматоза. Это заболевание вызывает опухоли и смерть кроликов. Таким образом было уничтожено около 90% заболевших животных. Но оставшиеся кролики выработали иммунитет, с течением времени стали реже заболевать и ещё реже умирать. Так что на данный момент проблема кроликов в Австралии до сих пор не решена.\n",
    "\n",
    "* [Кто такой этот ваш Фибоначчи.](https://ru.wikipedia.org/wiki/Фибоначчи)\n",
    "* [Серия Симпсонов, где вместо кроликов — лягушки.  Но мы то понимаем...](http://www.simp-fan.ru/episode/616/)\n",
    "* [О кроликах и Австралии на википедии.](https://ru.wikipedia.org/wiki/Кролики_в_Австралии)\n",
    "\n",
    "![](http://sila-znaniy.com/wp-content/uploads/2013/04/rabbits.jpg)"
   ]
  }
 ],
 "metadata": {
  "kernelspec": {
   "display_name": "Python 3",
   "language": "python",
   "name": "python3"
  },
  "language_info": {
   "codemirror_mode": {
    "name": "ipython",
    "version": 3
   },
   "file_extension": ".py",
   "mimetype": "text/x-python",
   "name": "python",
   "nbconvert_exporter": "python",
   "pygments_lexer": "ipython3",
   "version": "3.5.2"
  }
 },
 "nbformat": 4,
 "nbformat_minor": 2
}
