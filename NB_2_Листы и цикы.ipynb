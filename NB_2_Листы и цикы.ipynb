{
 "cells": [
  {
   "cell_type": "markdown",
   "metadata": {},
   "source": [
    "<img src=\"https://www.python.org/static/community_logos/python-logo-generic.svg\" height=\"500\" width=\"500\"> \n",
    "\n",
    "# <center> Python для продвинутых лицеистов и лицеисток. <br>  <br> Введение в Python </center>\n",
    "\n",
    "---------\n",
    "\n",
    "\n",
    "## Списки, вектора, циклы и другие радости\n",
    "\n",
    "### Списки\n",
    "\n",
    "Список это чулан, в который можно сваливать всякий хлам! В списке могут храниться данные разных типов. Например, строки, целые числа, числа с плавающей точкой."
   ]
  },
  {
   "cell_type": "code",
   "execution_count": 2,
   "metadata": {
    "collapsed": true
   },
   "outputs": [],
   "source": [
    "spisok = [2, 42, -10, 'Даша']\n",
    "# вот эта штука в квадратных скобках — это и есть список"
   ]
  },
  {
   "cell_type": "code",
   "execution_count": 3,
   "metadata": {
    "collapsed": false
   },
   "outputs": [
    {
     "data": {
      "text/plain": [
       "[2, 42, -10, 'Даша']"
      ]
     },
     "execution_count": 3,
     "metadata": {},
     "output_type": "execute_result"
    }
   ],
   "source": [
    "spisok "
   ]
  },
  {
   "cell_type": "markdown",
   "metadata": {},
   "source": [
    "Можно обращаться к отдельным элементам списка и работать с ними как с обычными переменными. Чтобы выбрать элемент нужно указать его номер."
   ]
  },
  {
   "cell_type": "code",
   "execution_count": 4,
   "metadata": {
    "collapsed": false
   },
   "outputs": [
    {
     "data": {
      "text/plain": [
       "42"
      ]
     },
     "execution_count": 4,
     "metadata": {},
     "output_type": "execute_result"
    }
   ],
   "source": [
    "spisok[1]"
   ]
  },
  {
   "cell_type": "markdown",
   "metadata": {},
   "source": [
    "**Внимание!** **Нумерация начинается с нуля!** Это такая старая программистская традиция, чтобы запутать непосвященных. Привыкайте. \n",
    "> На самом деле, у этого правила есть свои [рациональные обоснования](http://python-history.blogspot.ru/2013/10/why-python-uses-0-based-indexing.html)."
   ]
  },
  {
   "cell_type": "markdown",
   "metadata": {},
   "source": [
    "Чтобы узнать длину списка, можно использовать функцю `len`."
   ]
  },
  {
   "cell_type": "code",
   "execution_count": 5,
   "metadata": {
    "collapsed": false
   },
   "outputs": [
    {
     "data": {
      "text/plain": [
       "4"
      ]
     },
     "execution_count": 5,
     "metadata": {},
     "output_type": "execute_result"
    }
   ],
   "source": [
    "len(spisok)"
   ]
  },
  {
   "cell_type": "markdown",
   "metadata": {},
   "source": [
    "Заметим, что это не индекс последнего элемента, а именно число элементов. Если вам нужно получить последний элемент, то его индексом будет `len(numbers)-1`. Но в Python можно обращаться к элементам списка, считая их «с конца», гораздо проще:"
   ]
  },
  {
   "cell_type": "code",
   "execution_count": 6,
   "metadata": {
    "collapsed": false
   },
   "outputs": [
    {
     "data": {
      "text/plain": [
       "'Даша'"
      ]
     },
     "execution_count": 6,
     "metadata": {},
     "output_type": "execute_result"
    }
   ],
   "source": [
    "spisok[len(spisok) - 1]"
   ]
  },
  {
   "cell_type": "code",
   "execution_count": 7,
   "metadata": {
    "collapsed": false
   },
   "outputs": [
    {
     "data": {
      "text/plain": [
       "'Даша'"
      ]
     },
     "execution_count": 7,
     "metadata": {},
     "output_type": "execute_result"
    }
   ],
   "source": [
    "spisok[-1]"
   ]
  },
  {
   "cell_type": "markdown",
   "metadata": {},
   "source": [
    "Можно добавлять в конец списка новые эелемнты с помощью метода `.append`:"
   ]
  },
  {
   "cell_type": "code",
   "execution_count": 8,
   "metadata": {
    "collapsed": true
   },
   "outputs": [],
   "source": [
    "spisok.append(5)"
   ]
  },
  {
   "cell_type": "code",
   "execution_count": 9,
   "metadata": {
    "collapsed": false
   },
   "outputs": [
    {
     "data": {
      "text/plain": [
       "[2, 42, -10, 'Даша', 55]"
      ]
     },
     "execution_count": 9,
     "metadata": {},
     "output_type": "execute_result"
    }
   ],
   "source": [
    "spisok"
   ]
  },
  {
   "cell_type": "markdown",
   "metadata": {},
   "source": [
    "Слово `append` — это так называемый «метод» — функция, «принадлежащая» некоторому объекту (в данном случае — объекту `numbers` типа `list` (список)), и что-то делающая с этим объектом. У `numbers`, как у любого списка, есть много методов. Можно набрать `numbers.`, нажать табуляцию (после точки), и получить список доступных методов. А ещё можно набрать `help(list)` или даже `help(numbers)` (в нашем случае) и получить краткое описание этих методов. Например, так можно узнать, что помимо `append` у списков есть метод `extend`."
   ]
  },
  {
   "cell_type": "code",
   "execution_count": 11,
   "metadata": {
    "collapsed": false
   },
   "outputs": [
    {
     "name": "stdout",
     "output_type": "stream",
     "text": [
      "[2, 42, -10, 'Даша', 55]\n",
      "[2, 42, -10, 'Даша', 55, 3, 7, 5]\n"
     ]
    }
   ],
   "source": [
    "print(spisok)\n",
    "spisok.extend([3, 7, 5])\n",
    "print(spisok)"
   ]
  },
  {
   "cell_type": "markdown",
   "metadata": {},
   "source": [
    "Если бы мы попробовали добавить в конец списка новый список с помощью команды `append`, мы бы получили не совсем то, что хотелось бы: "
   ]
  },
  {
   "cell_type": "code",
   "execution_count": 13,
   "metadata": {
    "collapsed": false
   },
   "outputs": [
    {
     "name": "stdout",
     "output_type": "stream",
     "text": [
      "[2, 42, -10, 'Даша', 55, 3, 7, 5, 3, 7, 5, [3, 7, 5]]\n"
     ]
    }
   ],
   "source": [
    "spisok.append([3,7,5])\n",
    "print(spisok)"
   ]
  },
  {
   "cell_type": "markdown",
   "metadata": {},
   "source": [
    "В конец нашего списка добавился ещё один список. Помните о том, что список это чулан для абсолютно любого хлама. Туда даже можно добавть ещё один чулан...\n",
    "\n",
    "Методы `append` и `extend` меняют список, к которому они применяются. Иногда вместо этого нужно создать новый список, объединив (конкатенировав!) два других. Это тоже можно сделать."
   ]
  },
  {
   "cell_type": "code",
   "execution_count": 14,
   "metadata": {
    "collapsed": false
   },
   "outputs": [
    {
     "name": "stdout",
     "output_type": "stream",
     "text": [
      "[5, 8, 2, 1, 9, 4]\n"
     ]
    }
   ],
   "source": [
    "first_list = [5, 8, 2]\n",
    "second_list = [1, 9, 4]\n",
    "new_list = first_list + second_list\n",
    "print(new_list)"
   ]
  },
  {
   "cell_type": "markdown",
   "metadata": {},
   "source": [
    "> Приписывание одного списка к другому называется *конкатенацией*. Это умное слово, которое используют программисты, чтобы произвети впечатление на непосвящённых. Вы теперь тоже так умеете.\n",
    "\n",
    "Плюсик в данном случае обозначает не поэлементное сложение (как вы могли подумать), а конкатенацию.\n",
    "\n",
    "Обратите внимание. Когда мы складывали числа `2 + 2`, мы получали в ответе `4`. Тут мы работали с типом `float` или `int`. Когда мы складывали слова `'ёж'` + `'ик'`, мы получали в ответе `'ёжик'`. Тут мы работали с типом данных `str`.  Сейчас мы попробовали применить операцию сложения к новому типу данных, `list` и получили новый результат. Те же самые операции для объектов разного типа работают по-разному. И, обычно, это удобненько.  "
   ]
  },
  {
   "cell_type": "code",
   "execution_count": 15,
   "metadata": {
    "collapsed": false
   },
   "outputs": [
    {
     "data": {
      "text/plain": [
       "list"
      ]
     },
     "execution_count": 15,
     "metadata": {},
     "output_type": "execute_result"
    }
   ],
   "source": [
    "type(first_list)"
   ]
  },
  {
   "cell_type": "markdown",
   "metadata": {},
   "source": [
    "К спискам можно применять многие другие операции, например, можно удалить из списка какой-нибудь элемент."
   ]
  },
  {
   "cell_type": "code",
   "execution_count": 16,
   "metadata": {
    "collapsed": false
   },
   "outputs": [
    {
     "name": "stdout",
     "output_type": "stream",
     "text": [
      "[2, 42, -10, 'Даша', 55, 3, 7, 5, 3, 7, 5, [3, 7, 5]]\n",
      "[2, 42, -10, 55, 3, 7, 5, 3, 7, 5, [3, 7, 5]]\n"
     ]
    }
   ],
   "source": [
    "print(spisok)\n",
    "spisok.remove('Даша')\n",
    "print(spisok)"
   ]
  },
  {
   "cell_type": "markdown",
   "metadata": {},
   "source": [
    "Мы удалили из списка Дашу. Если написать название списка, поставить точку, а после нажать клавишу Tab, то питон заботливо выдаст нам подсказку: какие методы, которые можно применить к данному списку, существуют. Попробуйте найти метод, который перевернёт наш список вверх ногами: "
   ]
  },
  {
   "cell_type": "code",
   "execution_count": null,
   "metadata": {
    "collapsed": true
   },
   "outputs": [],
   "source": [
    "# Ваш код тут"
   ]
  },
  {
   "cell_type": "markdown",
   "metadata": {},
   "source": [
    "### Срезы \n",
    "\n",
    "Иногда нам нужен не весь список, а его кусочек. Его можно получить, указав в квадратных скобках не одно число, а два, разделённых двоеточием."
   ]
  },
  {
   "cell_type": "code",
   "execution_count": 17,
   "metadata": {
    "collapsed": false
   },
   "outputs": [
    {
     "name": "stdout",
     "output_type": "stream",
     "text": [
      "[2, 42, -10, 55, 3, 7, 5, 3, 7, 5, [3, 7, 5]]\n",
      "[55, 3, 7]\n"
     ]
    }
   ],
   "source": [
    "print(spisok)\n",
    "print(spisok[3:6])"
   ]
  },
  {
   "cell_type": "markdown",
   "metadata": {},
   "source": [
    "Это называется *slice* (по-русски часто говорят *срез*). Обратите внимание: левый конец среза включается (элемент с индексом 1 — это шестёрка), а правый — нет. Так будет всегда. Это соглашение оказывается удобным, например, потому что позволяет посчитать число элементов в срезе — нужно из правого конца вычесть левый (в данном случае 4-1=3).\n",
    "\n",
    "Если левый элемент не указан, то он считается началом списка, а если правый — то концом."
   ]
  },
  {
   "cell_type": "code",
   "execution_count": 18,
   "metadata": {
    "collapsed": false
   },
   "outputs": [
    {
     "name": "stdout",
     "output_type": "stream",
     "text": [
      "[3, 7, 5, [3, 7, 5]]\n",
      "[2, 42, -10, 55, 3, 7, 5]\n"
     ]
    }
   ],
   "source": [
    "print(spisok[7:])\n",
    "print(spisok[:7])"
   ]
  },
  {
   "cell_type": "markdown",
   "metadata": {},
   "source": [
    "Можно удалять элементы списка (и вообще что угодно) или срезы с помощью команды `del`."
   ]
  },
  {
   "cell_type": "code",
   "execution_count": 19,
   "metadata": {
    "collapsed": false
   },
   "outputs": [
    {
     "name": "stdout",
     "output_type": "stream",
     "text": [
      "[6, 7, 9, 12, 3]\n",
      "[9, 12, 3]\n"
     ]
    }
   ],
   "source": [
    "numbers = [6, 7, 9, 12, 8, 3]\n",
    "del(numbers[4]) # удалим 8\n",
    "print(numbers)\n",
    "del(numbers[0:2])\n",
    "print(numbers)"
   ]
  },
  {
   "cell_type": "markdown",
   "metadata": {},
   "source": [
    "Если очень хочется, то можно делать это и изученым выше методом `.remove`. "
   ]
  },
  {
   "cell_type": "markdown",
   "metadata": {},
   "source": [
    "### Цикл for\n",
    "\n",
    "Цикл `for` нужен в той ситуации, когда вам требуется перебрать все элементы списка и что-нибудь с ними сделать. Рассмотрим простой пример: выведем все элементы списка, увеличив их на 1."
   ]
  },
  {
   "cell_type": "code",
   "execution_count": 21,
   "metadata": {
    "collapsed": false
   },
   "outputs": [
    {
     "name": "stdout",
     "output_type": "stream",
     "text": [
      "5\n",
      "10\n",
      "2\n",
      "6\n"
     ]
    }
   ],
   "source": [
    "numbers = [4, 9, 1, 5]\n",
    "for x in numbers:\n",
    "    y = x + 1\n",
    "    print(y)"
   ]
  },
  {
   "cell_type": "markdown",
   "metadata": {},
   "source": [
    "Здесь требуются пояснения. В первой строчке создаётся список `numbers`. Во второй используется ключевое слово `for`, которое переводится с английского *для*. Читать эту строчку нужно так: *«**для** каждого элемента `x` **из** списка `numbers` сделать то-то и то-то»*. В конце этой строчки обязательно нужно поставить двоеточие, а в следующей строке сделать отступ.\n",
    "\n",
    "Отступами выделено *тело цикла*, в него входят те команды, которые необходимо применить по очереди к каждому элементу из списка `numbers`.\n",
    "\n",
    "Иными словами, код выше эквивалентен вот такому коду:"
   ]
  },
  {
   "cell_type": "code",
   "execution_count": 22,
   "metadata": {
    "collapsed": false
   },
   "outputs": [
    {
     "name": "stdout",
     "output_type": "stream",
     "text": [
      "5\n",
      "10\n",
      "2\n",
      "6\n"
     ]
    }
   ],
   "source": [
    "numbers = [4, 9, 1, 5]\n",
    "\n",
    "# делай раз\n",
    "x = numbers[0]\n",
    "y = x + 1\n",
    "print(y)\n",
    "\n",
    "# делай два\n",
    "x = numbers[1]\n",
    "y = x + 1\n",
    "print(y)\n",
    "\n",
    "# делай три\n",
    "x = numbers[2]\n",
    "y = x + 1\n",
    "print(y)\n",
    "\n",
    "# делай четыре\n",
    "x = numbers[3]\n",
    "y = x + 1\n",
    "print(y)\n"
   ]
  },
  {
   "cell_type": "markdown",
   "metadata": {},
   "source": [
    "Иногда у нас нет никакого конкретного списка, а просто нужно выполнить некоторый код несколько раз, причём заранее неизвестно, сколько. Для решения этой задачи служит объект `range()`."
   ]
  },
  {
   "cell_type": "code",
   "execution_count": 23,
   "metadata": {
    "collapsed": false
   },
   "outputs": [
    {
     "name": "stdout",
     "output_type": "stream",
     "text": [
      "0\n",
      "1\n",
      "2\n",
      "3\n",
      "4\n"
     ]
    }
   ],
   "source": [
    "for i in range(5):\n",
    "    print(i)"
   ]
  },
  {
   "cell_type": "markdown",
   "metadata": {},
   "source": [
    "`range(n)` ведёт себя как как список, содержащий целые числа от `0` до `n-1` (опять последний элемент не включается!). В нём ровно `n` элементов. Ещё можно использовать `range` в двумя аргументами: указать начало и конец интервала: `range(3,9)`. Можно даже превратить `range` в настоящий список с помощью команды `list`:"
   ]
  },
  {
   "cell_type": "code",
   "execution_count": 24,
   "metadata": {
    "collapsed": false
   },
   "outputs": [
    {
     "data": {
      "text/plain": [
       "[0, 1, 2, 3, 4]"
      ]
     },
     "execution_count": 24,
     "metadata": {},
     "output_type": "execute_result"
    }
   ],
   "source": [
    "list(range(5))"
   ]
  },
  {
   "cell_type": "code",
   "execution_count": 25,
   "metadata": {
    "collapsed": false
   },
   "outputs": [
    {
     "data": {
      "text/plain": [
       "[3, 4, 5, 6, 7, 8]"
      ]
     },
     "execution_count": 25,
     "metadata": {},
     "output_type": "execute_result"
    }
   ],
   "source": [
    "list(range(3,9))"
   ]
  },
  {
   "cell_type": "markdown",
   "metadata": {},
   "source": [
    "Поздравляю! Вы мнимательно изучили эту тетрадку и вспомнили чем мы занимались на прошлых парах. Кажется, пришло время порешать немножечко задачек на основе всего этого добра.\n",
    "\n",
    "## Соблюдение авторских прав\n",
    "\n",
    "В этой тетрадке мной были использованы: \n",
    "\n",
    "1. [Материалы для вышкинского курса](http://math-info.hse.ru/s15/m) по сбору и анализу данных в Python, подготовленные Щуровым И.В. для НИУ ВШЭ. \n",
    "\n",
    "2. Мои смутные воспоминания о том, что мы делали на последней паре без проектора. "
   ]
  },
  {
   "cell_type": "code",
   "execution_count": null,
   "metadata": {
    "collapsed": true
   },
   "outputs": [],
   "source": []
  }
 ],
 "metadata": {
  "kernelspec": {
   "display_name": "Python 3",
   "language": "python",
   "name": "python3"
  },
  "language_info": {
   "codemirror_mode": {
    "name": "ipython",
    "version": 3
   },
   "file_extension": ".py",
   "mimetype": "text/x-python",
   "name": "python",
   "nbconvert_exporter": "python",
   "pygments_lexer": "ipython3",
   "version": "3.5.2"
  }
 },
 "nbformat": 4,
 "nbformat_minor": 2
}
