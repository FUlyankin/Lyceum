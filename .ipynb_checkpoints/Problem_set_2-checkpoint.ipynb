{
 "cells": [
  {
   "cell_type": "markdown",
   "metadata": {},
   "source": [
    "\n",
    "<img src=\"https://www.python.org/static/community_logos/python-logo-generic.svg\" height=\"500\" width=\"500\"> \n",
    "\n",
    "# <center> Python для продвинутых лицеистов и лицеисток. <br>  <br>  Problem set 2 </center>\n",
    "\n",
    "---------\n",
    "\n",
    "\n",
    "\n",
    "## 1. Простые задачки на циклы и списки \n",
    "\n",
    "* Задан вектор из $n$ чисел. Вычислите их сумму. "
   ]
  },
  {
   "cell_type": "code",
   "execution_count": null,
   "metadata": {
    "collapsed": true
   },
   "outputs": [],
   "source": [
    "x = [1, 5, 6, 7, 8, 12, 52, 43, -18, -33, 0, 1, 9]\n",
    "\n",
    "# Ваш код тут"
   ]
  },
  {
   "cell_type": "markdown",
   "metadata": {},
   "source": [
    "* Дан вектор. Выведите все значения с чётными индексами."
   ]
  },
  {
   "cell_type": "code",
   "execution_count": null,
   "metadata": {
    "collapsed": true
   },
   "outputs": [],
   "source": [
    "x = [1, 5, 6, 7, 8, 12, 52, 43, -18, -33, 0, 1, 9]\n",
    "\n",
    "# Ваш код тут"
   ]
  },
  {
   "cell_type": "markdown",
   "metadata": {},
   "source": [
    "* Для произвольных чисел $n_1 < n_2$ выведите на экран все квадраты этих чисел"
   ]
  },
  {
   "cell_type": "code",
   "execution_count": null,
   "metadata": {
    "collapsed": true
   },
   "outputs": [],
   "source": [
    "n1 = int(input(\"Введите $n_1$:\"))\n",
    "n2 = int(input(\"Введите $n_2$:\"))\n",
    "\n",
    "# Ваш код тут \n"
   ]
  },
  {
   "cell_type": "markdown",
   "metadata": {},
   "source": [
    "* Найдите сумму квадратов всех чисел, которые находятся между  $n_1$ и  $n_2$."
   ]
  },
  {
   "cell_type": "code",
   "execution_count": null,
   "metadata": {
    "collapsed": true
   },
   "outputs": [],
   "source": [
    "n1 = int(input(\"Введите $n_1$:\"))\n",
    "n2 = int(input(\"Введите $n_2$:\"))\n",
    "\n",
    "# Ваш код тут \n"
   ]
  },
  {
   "cell_type": "markdown",
   "metadata": {},
   "source": [
    "* По данному натуральному n ≤ 9 выведите лесенку из n ступенек, i-я ступенька состоит из чисел от 1 до i без пробелов."
   ]
  },
  {
   "cell_type": "code",
   "execution_count": null,
   "metadata": {
    "collapsed": true
   },
   "outputs": [],
   "source": [
    "n = int(input('Введите число n < 9:'))\n",
    "\n",
    "# Ваш код тут "
   ]
  },
  {
   "cell_type": "markdown",
   "metadata": {},
   "source": [
    "## 2. Банки и попытка развести их на бабки\n",
    "\n",
    "Процентная ставка по вкладу составляет P процентов годовых, которые прибавляются к сумме вклада через год . Вклад составляет X рублей. Определите размер вклада через K лет."
   ]
  },
  {
   "cell_type": "code",
   "execution_count": null,
   "metadata": {
    "collapsed": false
   },
   "outputs": [],
   "source": [
    "P = int(input('Ставка процента: '))\n",
    "X = int(input('Сколько рублей на счете: '))\n",
    "K = int(input('Сколько лет будет лежать вклад: '))\n",
    "\n",
    "# Ваш код "
   ]
  },
  {
   "cell_type": "markdown",
   "metadata": {},
   "source": [
    "Даша положила в банк $1$ рубль. Ежегодно он увеличивается на $10\\%$. Через сколько лет вклад даши превратится в $10$ рублей?"
   ]
  },
  {
   "cell_type": "code",
   "execution_count": null,
   "metadata": {
    "collapsed": true
   },
   "outputs": [],
   "source": [
    "# Ваш код "
   ]
  },
  {
   "cell_type": "markdown",
   "metadata": {},
   "source": [
    "Катя положила в банк $1$ рубль. Ежегодно он увеличивается на $10\\%$. Вова тоже положил в Банк $1$ рубль. Ежегодно его вклад увеличивается на $10\\%$, Но в его случае начисление денег происходит два раза в год. В первый раз он получает $5\\%$ на 1 рубль в середине года, а после $5\\%$ на накопленную сумму в конце года. Чей вклад выгоднее? "
   ]
  },
  {
   "cell_type": "code",
   "execution_count": null,
   "metadata": {
    "collapsed": true
   },
   "outputs": [],
   "source": [
    "# Ваш код "
   ]
  },
  {
   "cell_type": "markdown",
   "metadata": {},
   "source": [
    "Серёжа хитрец. Он выяснил, что Вова получит больше, чем Катя и решил получить ещё больше денег в течение следующего года. Для этого он договорился с банком, что положит деньги под $10\\%$, но начисление будет происходить три раза за год. "
   ]
  },
  {
   "cell_type": "code",
   "execution_count": null,
   "metadata": {
    "collapsed": true
   },
   "outputs": [],
   "source": [
    "# Ваш код "
   ]
  },
  {
   "cell_type": "markdown",
   "metadata": {},
   "source": [
    "Аркадий решил всех переиграть и положить деньги под $10\\%$ с начислением 100 раз в год. Сколько он получит в конце года?"
   ]
  },
  {
   "cell_type": "code",
   "execution_count": null,
   "metadata": {
    "collapsed": true
   },
   "outputs": [],
   "source": [
    "# Ваш код "
   ]
  },
  {
   "cell_type": "markdown",
   "metadata": {},
   "source": [
    "Вероника посмотрела на деятельность товарищей и решила нагнуть банк. Она кладёт 1 рубль под $10\\%$ с бесконечным количеством начислений. Нагнёт ли банк вероника? Обоснуйте свою точку зрения с помощью кода! "
   ]
  },
  {
   "cell_type": "code",
   "execution_count": null,
   "metadata": {
    "collapsed": true
   },
   "outputs": [],
   "source": [
    "# Ваш код "
   ]
  },
  {
   "cell_type": "markdown",
   "metadata": {},
   "source": [
    "## 3. Пингвины и их пингвиньи проблемы \n",
    "\n",
    "Напишите программу, которая по данному числу n выводит на экран n пингвинов."
   ]
  },
  {
   "cell_type": "code",
   "execution_count": 2,
   "metadata": {
    "collapsed": false
   },
   "outputs": [],
   "source": [
    "head = '   _~_    '\n",
    "eyes = '  (o o)   '\n",
    "nose = ' /  V  \\  '\n",
    "body = '/(  _  )\\ ' \n",
    "legs = '  ^^ ^^   '"
   ]
  },
  {
   "cell_type": "markdown",
   "metadata": {},
   "source": [
    "Для начала, пусть требуемые пингвины выводятся в столбик! "
   ]
  },
  {
   "cell_type": "code",
   "execution_count": null,
   "metadata": {
    "collapsed": true
   },
   "outputs": [],
   "source": [
    "n = int(input(\"Сколько пингвинов вы хотите?\"))\n",
    "\n",
    " # Ваш код "
   ]
  },
  {
   "cell_type": "markdown",
   "metadata": {},
   "source": [
    "Теперь пусть пингвины выводятся в строчку! "
   ]
  },
  {
   "cell_type": "code",
   "execution_count": null,
   "metadata": {
    "collapsed": true
   },
   "outputs": [],
   "source": [
    "n = int(input(\"Сколько пингвинов вы хотите?\"))\n",
    "\n",
    " # Ваш код "
   ]
  },
  {
   "cell_type": "markdown",
   "metadata": {},
   "source": [
    "Пусть пингвины выводятся в строчку. Если в строке уже есть 7 пингвинов, то будем переходить на новую строчку!"
   ]
  },
  {
   "cell_type": "code",
   "execution_count": null,
   "metadata": {
    "collapsed": true
   },
   "outputs": [],
   "source": [
    "n = int(input(\"Сколько пингвинов вы хотите?\"))\n",
    "\n",
    " # Ваш код "
   ]
  },
  {
   "cell_type": "markdown",
   "metadata": {},
   "source": [
    "## 4. Чуть более сложные задания на циклы\n",
    "\n",
    "* Дан вектор $x$. Найдите в нём максимум. "
   ]
  },
  {
   "cell_type": "code",
   "execution_count": null,
   "metadata": {
    "collapsed": true
   },
   "outputs": [],
   "source": [
    "x = [1, 5, 6, 7, 8, 12, 52, 43, -18, -33, 0, 1, 9]\n",
    "\n",
    "# Ваш код тут"
   ]
  },
  {
   "cell_type": "markdown",
   "metadata": {},
   "source": [
    "Насколько сложный этот код? Как время его выполнения зависит от размера вектора $x$? \n",
    "\n",
    "* Дан вектор $x$. Нужно поменять местами 3-ий и 4-ый элементы. "
   ]
  },
  {
   "cell_type": "code",
   "execution_count": null,
   "metadata": {
    "collapsed": true
   },
   "outputs": [],
   "source": [
    "x = [0, 1, 2, 3, 4, 5, 6]\n",
    "\n",
    "# Ваш код тут"
   ]
  },
  {
   "cell_type": "markdown",
   "metadata": {},
   "source": [
    "* Дан вектор. Необходимо поменять в нём местами максимум и минимум. "
   ]
  },
  {
   "cell_type": "code",
   "execution_count": null,
   "metadata": {
    "collapsed": true
   },
   "outputs": [],
   "source": [
    "x = [1, 5, 6, 7, 8, 12, 52, 43, -18, -33, 0, 1, 9]\n",
    "\n",
    "# Ваш код тут"
   ]
  },
  {
   "cell_type": "markdown",
   "metadata": {},
   "source": [
    "Снова подумайте о том как именно возрастает время исполнения вашего кода в зависимости от размера вектора.\n",
    "\n",
    "Это конец тетрадки с упражнениями! Поздравляю ;) \n",
    "\n",
    "![](https://i1.wp.com/www.knysnakeep.org/wp-content/uploads/2014/06/You-Are-Awesome-Knysna.jpg?fit=500%2C433)"
   ]
  }
 ],
 "metadata": {
  "kernelspec": {
   "display_name": "Python 3",
   "language": "python",
   "name": "python3"
  },
  "language_info": {
   "codemirror_mode": {
    "name": "ipython",
    "version": 3
   },
   "file_extension": ".py",
   "mimetype": "text/x-python",
   "name": "python",
   "nbconvert_exporter": "python",
   "pygments_lexer": "ipython3",
   "version": "3.5.2"
  }
 },
 "nbformat": 4,
 "nbformat_minor": 2
}
